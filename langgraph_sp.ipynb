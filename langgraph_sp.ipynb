{
 "cells": [
  {
   "cell_type": "code",
   "execution_count": 25,
   "metadata": {},
   "outputs": [
    {
     "data": {
      "text/plain": [
       "True"
      ]
     },
     "execution_count": 25,
     "metadata": {},
     "output_type": "execute_result"
    }
   ],
   "source": [
    "# Celda 1 (actualizada)\n",
    "from dotenv import load_dotenv\n",
    "import os        # Importación agregada para acceder a las variables de entorno\n",
    "import requests  # Importación agregada para realizar llamadas HTTP si se desea\n",
    "\n",
    "load_dotenv()"
   ]
  },
  {
   "cell_type": "code",
   "execution_count": 26,
   "metadata": {},
   "outputs": [],
   "source": [
    "# Nueva celda: Definición de la herramienta weatherbit_api\n",
    "class WeatherbitAPI:\n",
    "    def __init__(self):\n",
    "        # Se obtiene la clave de la API desde el archivo .env\n",
    "        self.api_key = os.getenv(\"WEATHERBIT_API_KEY\")\n",
    "    \n",
    "    def invoke(self, args: dict) -> str:\n",
    "        if not self.api_key:\n",
    "            return \"Error: Clave para Weatherbit no configurada\"\n",
    "        ciudad = args.get(\"ciudad\", \"\")\n",
    "        # Ejemplo de llamada real (descomentar para usarla realmente):\n",
    "        # url = f\"https://api.weatherbit.io/v2.0/current?city={ciudad}&key={self.api_key}&lang=es\"\n",
    "        # response = requests.get(url)\n",
    "        # if response.status_code != 200:\n",
    "        #     return \"Servicio temporalmente no disponible\"\n",
    "        # data = response.json()\n",
    "        # Aquí se procesarían los datos para retornar el resultado en español\n",
    "        # Por simplicidad se retorna un resultado simulado:\n",
    "        return \"Soleado, 18°C\"\n",
    "\n",
    "# Instanciamos la herramienta para su registro\n",
    "weatherbit_api = WeatherbitAPI()"
   ]
  },
  {
   "cell_type": "markdown",
   "metadata": {},
   "source": [
    "### Nodes & Edges"
   ]
  },
  {
   "cell_type": "code",
   "execution_count": 27,
   "metadata": {},
   "outputs": [],
   "source": [
    "from langchain_core.messages import HumanMessage\n",
    "from langgraph.graph import END, MessageGraph\n",
    "import time\n",
    "\n",
    "def add_one(input: list[HumanMessage]):\n",
    "    input[0].content = input[0].content + \"a\"\n",
    "    time.sleep(1)\n",
    "    return input\n",
    "\n",
    "def add_z(input: list[HumanMessage]):\n",
    "    input[0].content = input[0].content + \"z\"\n",
    "    time.sleep(1)\n",
    "    return input\n",
    "\n",
    "def add_zero(input: list[HumanMessage]):\n",
    "    input[0].content = input[0].content + \"0\"\n",
    "    time.sleep(1)\n",
    "    return input\n",
    "\n",
    "\n",
    "graph = MessageGraph()\n",
    "\n",
    "graph.add_node(\"branch_a\", add_one)\n",
    "graph.add_edge(\"branch_a\", \"branch_b\")\n",
    "graph.add_edge(\"branch_a\", \"branch_c\")\n",
    "\n",
    "graph.add_node(\"branch_b\", add_one)\n",
    "graph.add_node(\"branch_c\", add_zero)\n",
    "\n",
    "graph.add_edge(\"branch_b\", \"final_node\")\n",
    "graph.add_edge(\"branch_c\", \"final_node\")\n",
    "\n",
    "graph.add_node(\"final_node\", add_z)\n",
    "graph.add_edge(\"final_node\", END)\n",
    "\n",
    "graph.set_entry_point(\"branch_a\")\n",
    "\n",
    "runnable = graph.compile()"
   ]
  },
  {
   "cell_type": "code",
   "execution_count": 28,
   "metadata": {},
   "outputs": [
    {
     "data": {
      "image/png": "[encoded data removed]",
      "text/plain": [
       "<IPython.core.display.Image object>"
      ]
     },
     "metadata": {},
     "output_type": "display_data"
    }
   ],
   "source": [
    "from IPython.display import Image, display\n",
    "\n",
    "display(Image(runnable.get_graph().draw_mermaid_png()))"
   ]
  },
  {
   "cell_type": "code",
   "execution_count": 29,
   "metadata": {},
   "outputs": [
    {
     "data": {
      "text/plain": [
       "[HumanMessage(content='Raa0z', additional_kwargs={}, response_metadata={}, id='e91f055f-320b-4f27-bbbe-573664e5b766')]"
      ]
     },
     "execution_count": 29,
     "metadata": {},
     "output_type": "execute_result"
    }
   ],
   "source": [
    "runnable.invoke(\"R\")"
   ]
  },
  {
   "cell_type": "markdown",
   "metadata": {},
   "source": [
    "### Bordes Condicionales"
   ]
  },
  {
   "cell_type": "code",
   "execution_count": 30,
   "metadata": {},
   "outputs": [],
   "source": [
    "from langchain_core.messages import HumanMessage\n",
    "from langgraph.graph import END, MessageGraph\n",
    "\n",
    "\n",
    "def entry(input: list[HumanMessage]):\n",
    "    return input\n",
    "\n",
    "\n",
    "def work_with_b(input: list[HumanMessage]):\n",
    "    print(\"Usando rama B\")\n",
    "    return input\n",
    "\n",
    "\n",
    "def work_with_c(input: list[HumanMessage]):\n",
    "    print(\"Usando rama C\")\n",
    "    return input\n",
    "\n",
    "\n",
    "def router(input: list[HumanMessage]):\n",
    "    if \"use_b\" in input[0].content:\n",
    "        return \"branch_b\"\n",
    "    else:\n",
    "        return \"branch_c\"\n",
    "\n",
    "\n",
    "graph = MessageGraph()\n",
    "\n",
    "graph.add_node(\"branch_a\", entry)\n",
    "graph.add_node(\"branch_b\", work_with_b)\n",
    "graph.add_node(\"branch_c\", work_with_c)\n",
    "\n",
    "# Agrega bordes condicionales al grafo:\n",
    "# - El primer argumento \"branch_a\" es el nodo de origen\n",
    "# - El segundo argumento \"router\" es la función que decide qué camino tomar\n",
    "# - El tercer argumento es un diccionario que mapea los valores retornados por\n",
    "#   el router a los nodos destino:\n",
    "#   - Si router retorna \"branch_b\", el flujo va al nodo \"branch_b\"\n",
    "#   - Si router retorna \"branch_c\", el flujo va al nodo \"branch_c\"\n",
    "graph.add_conditional_edges(\n",
    "    \"branch_a\", router, {\"branch_b\": \"branch_b\", \"branch_c\": \"branch_c\"}\n",
    ")\n",
    "graph.add_edge(\"branch_b\", END)\n",
    "graph.add_edge(\"branch_c\", END)\n",
    "\n",
    "graph.set_entry_point(\"branch_a\")\n",
    "\n",
    "runnable = graph.compile()"
   ]
  },
  {
   "cell_type": "code",
   "execution_count": 31,
   "metadata": {},
   "outputs": [
    {
     "data": {
      "image/png": "[encoded data removed]",
      "text/plain": [
       "<IPython.core.display.Image object>"
      ]
     },
     "metadata": {},
     "output_type": "display_data"
    }
   ],
   "source": [
    "from IPython.display import Image, display\n",
    "\n",
    "display(Image(runnable.get_graph().draw_mermaid_png()))"
   ]
  },
  {
   "cell_type": "code",
   "execution_count": 32,
   "metadata": {},
   "outputs": [
    {
     "name": "stdout",
     "output_type": "stream",
     "text": [
      "Usando rama C\n"
     ]
    },
    {
     "data": {
      "text/plain": [
       "[HumanMessage(content='hello', additional_kwargs={}, response_metadata={}, id='1451e1cb-84a8-4694-9560-a8e20cbc37da')]"
      ]
     },
     "execution_count": 32,
     "metadata": {},
     "output_type": "execute_result"
    }
   ],
   "source": [
    "runnable.invoke(\"hello\")"
   ]
  },
  {
   "cell_type": "code",
   "execution_count": 33,
   "metadata": {},
   "outputs": [
    {
     "name": "stdout",
     "output_type": "stream",
     "text": [
      "Usando rama B\n"
     ]
    },
    {
     "data": {
      "text/plain": [
       "[HumanMessage(content='No quiero usar use_b', additional_kwargs={}, response_metadata={}, id='80990ad2-ba86-40d1-8c65-c593d01f5254')]"
      ]
     },
     "execution_count": 33,
     "metadata": {},
     "output_type": "execute_result"
    }
   ],
   "source": [
    "runnable.invoke(\"No quiero usar use_b\")"
   ]
  },
  {
   "cell_type": "code",
   "execution_count": 34,
   "metadata": {},
   "outputs": [
    {
     "name": "stdout",
     "output_type": "stream",
     "text": [
      "Usando rama B\n"
     ]
    },
    {
     "data": {
      "text/plain": [
       "[HumanMessage(content='Odio use_b', additional_kwargs={}, response_metadata={}, id='cdc7c65e-8553-4d9f-8433-749cae88b30b')]"
      ]
     },
     "execution_count": 34,
     "metadata": {},
     "output_type": "execute_result"
    }
   ],
   "source": [
    "runnable.invoke(\"Odio use_b\")"
   ]
  },
  {
   "cell_type": "markdown",
   "metadata": {},
   "source": [
    "### Ciclos"
   ]
  },
  {
   "cell_type": "code",
   "execution_count": 35,
   "metadata": {},
   "outputs": [],
   "source": [
    "from langchain_openai import ChatOpenAI\n",
    "from langchain_core.messages import HumanMessage\n",
    "from langgraph.graph import END, MessageGraph\n",
    "\n",
    "model = ChatOpenAI(temperature=0)\n",
    "\n",
    "\n",
    "def entry(input: list[HumanMessage]):\n",
    "    return input\n",
    "\n",
    "\n",
    "def action(input: list[HumanMessage]):\n",
    "    print(\"Acción tomada:\", [msg.content for msg in input])\n",
    "    if len(input) > 10:\n",
    "        input.append(HumanMessage(content=\"end\"))\n",
    "    else:\n",
    "        input.append(HumanMessage(content=\"continue\"))\n",
    "    return input\n",
    "\n",
    "\n",
    "def should_continue(input: list):\n",
    "    last_message = input[-1]\n",
    "    if \"end\" in last_message.content:\n",
    "        return \"__end__\"\n",
    "    return \"action\"\n",
    "\n",
    "\n",
    "graph = MessageGraph()\n",
    "\n",
    "graph.add_node(\"agent\", entry)\n",
    "graph.add_node(\"action\", action)\n",
    "\n",
    "graph.add_conditional_edges(\n",
    "    \"agent\", should_continue, {\"action\": \"action\", \"__end__\": END}\n",
    ")\n",
    "graph.add_edge(\"action\", \"agent\")\n",
    "\n",
    "graph.set_entry_point(\"agent\")\n",
    "\n",
    "runnable = graph.compile()"
   ]
  },
  {
   "cell_type": "code",
   "execution_count": 36,
   "metadata": {},
   "outputs": [
    {
     "name": "stdout",
     "output_type": "stream",
     "text": [
      "Acción tomada: ['hello']\n",
      "Acción tomada: ['hello', 'continue']\n",
      "Acción tomada: ['hello', 'continue', 'continue']\n",
      "Acción tomada: ['hello', 'continue', 'continue', 'continue']\n",
      "Acción tomada: ['hello', 'continue', 'continue', 'continue', 'continue']\n",
      "Acción tomada: ['hello', 'continue', 'continue', 'continue', 'continue', 'continue']\n",
      "Acción tomada: ['hello', 'continue', 'continue', 'continue', 'continue', 'continue', 'continue']\n",
      "Acción tomada: ['hello', 'continue', 'continue', 'continue', 'continue', 'continue', 'continue', 'continue']\n",
      "Acción tomada: ['hello', 'continue', 'continue', 'continue', 'continue', 'continue', 'continue', 'continue', 'continue']\n",
      "Acción tomada: ['hello', 'continue', 'continue', 'continue', 'continue', 'continue', 'continue', 'continue', 'continue', 'continue']\n",
      "Acción tomada: ['hello', 'continue', 'continue', 'continue', 'continue', 'continue', 'continue', 'continue', 'continue', 'continue', 'continue']\n"
     ]
    },
    {
     "data": {
      "text/plain": [
       "[HumanMessage(content='hello', additional_kwargs={}, response_metadata={}, id='77f6cb0b-8a9d-4ce1-8e88-c116c0c14802'),\n",
       " HumanMessage(content='continue', additional_kwargs={}, response_metadata={}, id='1bdb8c53-236b-4ccd-9dd6-7bac0b63f38d'),\n",
       " HumanMessage(content='continue', additional_kwargs={}, response_metadata={}, id='00235f35-25bd-4fdb-aa0f-7d94fab67721'),\n",
       " HumanMessage(content='continue', additional_kwargs={}, response_metadata={}, id='cc80b939-bfbd-4d2d-8a9e-d2d1e917578e'),\n",
       " HumanMessage(content='continue', additional_kwargs={}, response_metadata={}, id='2f7e11e5-362c-40fd-a226-6c6e39d36b8a'),\n",
       " HumanMessage(content='continue', additional_kwargs={}, response_metadata={}, id='de5c6c9f-c105-40dc-becb-cb9962eaf624'),\n",
       " HumanMessage(content='continue', additional_kwargs={}, response_metadata={}, id='fb118192-d17b-4ab0-a01c-e3caf5634ff9'),\n",
       " HumanMessage(content='continue', additional_kwargs={}, response_metadata={}, id='f61740c3-6f28-4826-9b98-3991f76df763'),\n",
       " HumanMessage(content='continue', additional_kwargs={}, response_metadata={}, id='515810bc-1dc9-4d92-8363-7619d60e7048'),\n",
       " HumanMessage(content='continue', additional_kwargs={}, response_metadata={}, id='8ba37fc8-d37a-4023-ab39-e2a0428a91e1'),\n",
       " HumanMessage(content='continue', additional_kwargs={}, response_metadata={}, id='96f48ad8-caa7-40d6-83d5-d89ef781161b'),\n",
       " HumanMessage(content='end', additional_kwargs={}, response_metadata={}, id='2d07decf-fe27-4920-9ded-0a34786abf20')]"
      ]
     },
     "execution_count": 36,
     "metadata": {},
     "output_type": "execute_result"
    }
   ],
   "source": [
    "# Ejemplo de invocación para ciclos\n",
    "from langchain_core.messages import HumanMessage\n",
    "\n",
    "runnable.invoke(HumanMessage(content=\"hello\"))"
   ]
  },
  {
   "cell_type": "markdown",
   "metadata": {},
   "source": [
    "### Agente Real - ahora creemos un agente que realmente haga algo"
   ]
  },
  {
   "cell_type": "code",
   "execution_count": 37,
   "metadata": {},
   "outputs": [],
   "source": [
    "from langchain_openai import ChatOpenAI\n",
    "\n",
    "model = ChatOpenAI(temperature=0)"
   ]
  },
  {
   "cell_type": "code",
   "execution_count": 38,
   "metadata": {},
   "outputs": [],
   "source": [
    "from typing import TypedDict, Annotated, Sequence \n",
    "import operator\n",
    "from langchain_core.messages import BaseMessage\n",
    "\n",
    "class AgentState(TypedDict):\n",
    "    # Esta clase define el estado del agente:\n",
    "    # - messages: Una secuencia de mensajes que se pueden concatenar (usando operator.add)\n",
    "    # - api_call_count: Un contador de llamadas a la API, inicializado en 0\n",
    "    messages: Annotated[Sequence[BaseMessage], operator.add]\n",
    "    api_call_count: int = 0"
   ]
  },
  {
   "cell_type": "code",
   "execution_count": 39,
   "metadata": {},
   "outputs": [],
   "source": [
    "from langchain_core.tools import tool\n",
    "import random\n",
    "\n",
    "# Pendiente: Hacer que algunas veces la API de WeatherBit falle\n",
    "\n",
    "@tool\n",
    "def weatherbit_api(ciudad: str) -> str:\n",
    "    \"\"\"Consulta el clima actual usando la API de WeatherBit para una ciudad específica\"\"\"\n",
    "    import requests\n",
    "    import random\n",
    "    \n",
    "    # Simula una falla en el 60% de las llamadas\n",
    "    if random.random() < 0.3:\n",
    "        return \"Servicio temporalmente no disponible\"\n",
    "    \n",
    "    api_key = \"e52b5895ccd743d0b5edaf98af5c7322\"\n",
    "    base_url = \"https://api.weatherbit.io/v2.0/current\"\n",
    "    \n",
    "    try:\n",
    "        params = {\n",
    "            \"city\": ciudad,\n",
    "            \"key\": api_key,\n",
    "            \"lang\": \"es\"\n",
    "        }\n",
    "        \n",
    "        response = requests.get(base_url, params=params)\n",
    "        response.raise_for_status()\n",
    "        \n",
    "        datos = response.json()\n",
    "        \n",
    "        if \"data\" in datos and len(datos[\"data\"]) > 0:\n",
    "            clima = datos[\"data\"][0]\n",
    "            temp = clima[\"temp\"]\n",
    "            descripcion = clima[\"weather\"][\"description\"]\n",
    "            return f\"{descripcion}, {temp}°C\"\n",
    "        else:\n",
    "            return \"No se encontraron datos para esta ciudad\"\n",
    "            \n",
    "    except Exception as e:\n",
    "        return f\"Error al consultar el servicio: {str(e)}\"\n",
    "\n",
    "# @tool\n",
    "# def fake_weather_api(city: str) -> str:\n",
    "#     \"\"\"Consulta el clima en una ciudad especificada. La API está disponible aleatoriamente, aproximadamente cada tercera llamada.\"\"\"\n",
    "\n",
    "#     if random.randint(1, 3) == 1:  # Aproximadamente 1 de cada 3 llamadas\n",
    "#         temp = random.randint(-5, 25)\n",
    "#         weather = \"Muy frío\" if temp < 5 else \"Nublado\" if temp < 15 else \"Soleado\"\n",
    "#         return f\"{weather}, {temp}°C\"\n",
    "#     else:\n",
    "#         return \"Servicio temporalmente no disponible\""
   ]
  },
  {
   "cell_type": "code",
   "execution_count": 40,
   "metadata": {},
   "outputs": [
    {
     "name": "stdout",
     "output_type": "stream",
     "text": [
      "Cielo despejado, 18.4°C\n",
      "Cielo despejado, 30°C\n",
      "Cielo despejado, 18.9°C\n",
      "Servicio temporalmente no disponible\n",
      "Cubierto, 13°C\n"
     ]
    }
   ],
   "source": [
    "print(weatherbit_api.invoke({\"ciudad\": \"Ciudad de México\"}))\n",
    "print(weatherbit_api.invoke({\"ciudad\": \"Buenos Aires\"}))\n",
    "print(weatherbit_api.invoke({\"ciudad\": \"Santiago\"}))\n",
    "print(weatherbit_api.invoke({\"ciudad\": \"Lima\"}))\n",
    "print(weatherbit_api.invoke({\"ciudad\": \"Bogotá\"}))"
   ]
  },
  {
   "cell_type": "code",
   "execution_count": 41,
   "metadata": {},
   "outputs": [],
   "source": [
    "llm_with_tools = model.bind_tools([weatherbit_api])"
   ]
  },
  {
   "cell_type": "code",
   "execution_count": 42,
   "metadata": {},
   "outputs": [
    {
     "name": "stdout",
     "output_type": "stream",
     "text": [
      "[HumanMessage(content='¿Cómo estará el clima en Ciudad de México hoy? Me gustaría comer al aire libre si es posible', additional_kwargs={}, response_metadata={}), AIMessage(content='', additional_kwargs={'tool_calls': [{'id': 'call_Ar7CqrNj5DJWebdPyoo98gSG', 'function': {'arguments': '{\"ciudad\":\"Ciudad de México\"}', 'name': 'weatherbit_api'}, 'type': 'function'}], 'refusal': None}, response_metadata={'token_usage': {'completion_tokens': 20, 'prompt_tokens': 80, 'total_tokens': 100, 'completion_tokens_details': {'accepted_prediction_tokens': 0, 'audio_tokens': 0, 'reasoning_tokens': 0, 'rejected_prediction_tokens': 0}, 'prompt_tokens_details': {'audio_tokens': 0, 'cached_tokens': 0}}, 'model_name': 'gpt-3.5-turbo-0125', 'system_fingerprint': None, 'finish_reason': 'tool_calls', 'logprobs': None}, id='run-395f61f1-6987-407c-bf45-b167262d89c5-0', tool_calls=[{'name': 'weatherbit_api', 'args': {'ciudad': 'Ciudad de México'}, 'id': 'call_Ar7CqrNj5DJWebdPyoo98gSG', 'type': 'tool_call'}], usage_metadata={'input_tokens': 80, 'output_tokens': 20, 'total_tokens': 100, 'input_token_details': {'audio': 0, 'cache_read': 0}, 'output_token_details': {'audio': 0, 'reasoning': 0}})]\n"
     ]
    }
   ],
   "source": [
    "from langchain_core.messages import HumanMessage, ToolMessage\n",
    "\n",
    "tool_mapping = {\"weatherbit_api\": weatherbit_api}\n",
    "\n",
    "messages = [\n",
    "    HumanMessage(\n",
    "        \"¿Cómo estará el clima en Ciudad de México hoy? Me gustaría comer al aire libre si es posible\"\n",
    "    )\n",
    "]\n",
    "llm_output = llm_with_tools.invoke(messages)\n",
    "messages.append(llm_output)\n",
    "print(messages)"
   ]
  },
  {
   "cell_type": "code",
   "execution_count": 43,
   "metadata": {},
   "outputs": [
    {
     "data": {
      "text/plain": [
       "AIMessage(content='Lo siento, parece que el servicio de clima no está disponible en este momento. ¿Hay algo más en lo que pueda ayudarte?', additional_kwargs={'refusal': None}, response_metadata={'token_usage': {'completion_tokens': 31, 'prompt_tokens': 114, 'total_tokens': 145, 'completion_tokens_details': {'accepted_prediction_tokens': 0, 'audio_tokens': 0, 'reasoning_tokens': 0, 'rejected_prediction_tokens': 0}, 'prompt_tokens_details': {'audio_tokens': 0, 'cached_tokens': 0}}, 'model_name': 'gpt-3.5-turbo-0125', 'system_fingerprint': None, 'finish_reason': 'stop', 'logprobs': None}, id='run-6dd43504-3b63-4787-a5d3-b543b06cf9b4-0', usage_metadata={'input_tokens': 114, 'output_tokens': 31, 'total_tokens': 145, 'input_token_details': {'audio': 0, 'cache_read': 0}, 'output_token_details': {'audio': 0, 'reasoning': 0}})"
      ]
     },
     "execution_count": 43,
     "metadata": {},
     "output_type": "execute_result"
    }
   ],
   "source": [
    "for tool_call in llm_output.tool_calls:\n",
    "    tool = tool_mapping[tool_call[\"name\"].lower()]\n",
    "    tool_output = tool.invoke(tool_call[\"args\"])\n",
    "    messages.append(ToolMessage(content=tool_output, tool_call_id=tool_call[\"id\"]))\n",
    "\n",
    "llm_with_tools.invoke(messages)"
   ]
  },
  {
   "cell_type": "code",
   "execution_count": 44,
   "metadata": {},
   "outputs": [],
   "source": [
    "# Esta función determina si el agente debe continuar ejecutando acciones o terminar\n",
    "# Recibe el estado actual del agente y analiza el último mensaje\n",
    "# Si el último mensaje no tiene llamadas a herramientas, termina el flujo\n",
    "# Si tiene llamadas pendientes, continúa la ejecución\n",
    "def should_continue(state: AgentState):\n",
    "    print(\"ESTADO:\", state)\n",
    "    messages = state[\"messages\"]\n",
    "    last_message = messages[-1]\n",
    "    if not last_message.tool_calls:\n",
    "        return \"end\"\n",
    "    else:\n",
    "        return \"continue\"\n",
    "\n",
    "\n",
    "# Esta función se encarga de llamar al modelo de lenguaje con el estado actual\n",
    "# Recibe el estado del agente que contiene los mensajes previos\n",
    "# Invoca al modelo y retorna su respuesta junto con el contador de llamadas API\n",
    "def call_model(state: AgentState):\n",
    "    messages = state[\"messages\"]\n",
    "    response = llm_with_tools.invoke(messages)\n",
    "    return {\"messages\": [response], \"api_call_count\": state[\"api_call_count\"]}\n",
    "\n",
    "\n",
    "# Esta función ejecuta las llamadas a las herramientas solicitadas por el modelo\n",
    "# Obtiene la herramienta especificada del último mensaje y la invoca\n",
    "# Incrementa el contador de llamadas API y registra la salida\n",
    "# Retorna el mensaje de la herramienta y el contador actualizado\n",
    "# Fragmento actualizado en la definición de call_tool (dentro de la celda que la contiene)\n",
    "def call_tool(state: AgentState):\n",
    "    messages = state[\"messages\"]\n",
    "    last_message = messages[-1]\n",
    "    tool_call = last_message.tool_calls[0]\n",
    "    # Si la llamada es para weatherbit_api y no está registrada aún, se registra\n",
    "    if tool_call[\"name\"].lower() == \"weatherbit_api\" and \"weatherbit_api\" not in tool_mapping:\n",
    "        tool_mapping[\"weatherbit_api\"] = weatherbit_api\n",
    "    tool = tool_mapping[tool_call[\"name\"].lower()]\n",
    "    tool_output = tool.invoke(tool_call[\"args\"])\n",
    "    state[\"api_call_count\"] += 1\n",
    "    print(\"Salida de la herramienta:\", tool_output)\n",
    "    print(\"Cantidad de llamadas a la API después de esta herramienta:\", state[\"api_call_count\"])\n",
    "    tool_message = ToolMessage(content=tool_output, tool_call_id=tool_call[\"id\"])\n",
    "    return {\"messages\": [tool_message], \"api_call_count\": state[\"api_call_count\"]}"
   ]
  },
  {
   "cell_type": "code",
   "execution_count": 45,
   "metadata": {},
   "outputs": [],
   "source": [
    "# Importamos las clases necesarias de langgraph\n",
    "from langgraph.graph import StateGraph, END\n",
    "\n",
    "# Creamos un nuevo grafo de estado que manejará el estado del agente\n",
    "workflow = StateGraph(AgentState)\n",
    "\n",
    "# Agregamos dos nodos al grafo:\n",
    "# - \"agent\": ejecuta el modelo de lenguaje (call_model)\n",
    "# - \"action\": ejecuta las herramientas (call_tool)\n",
    "workflow.add_node(\"agent\", call_model)\n",
    "workflow.add_node(\"action\", call_tool)\n",
    "\n",
    "# Establecemos el punto de entrada del grafo en el nodo \"agent\"\n",
    "workflow.set_entry_point(\"agent\")\n",
    "\n",
    "# Agregamos bordes condicionales desde el nodo \"agent\":\n",
    "# - Si should_continue retorna \"continue\", va al nodo \"action\"\n",
    "# - Si should_continue retorna \"end\", termina la ejecución\n",
    "workflow.add_conditional_edges(\n",
    "    \"agent\",\n",
    "    should_continue,\n",
    "    {\n",
    "        \"continue\": \"action\",\n",
    "        \"end\": END\n",
    "    }\n",
    ")\n",
    "\n",
    "# Agregamos un borde desde \"action\" de vuelta a \"agent\"\n",
    "# para crear el ciclo de ejecución\n",
    "workflow.add_edge(\"action\", \"agent\")\n",
    "\n",
    "# Compilamos el grafo para crear la aplicación ejecutable\n",
    "app = workflow.compile()"
   ]
  },
  {
   "cell_type": "code",
   "execution_count": 46,
   "metadata": {},
   "outputs": [
    {
     "data": {
      "image/png": "[encoded data removed]",
      "text/plain": [
       "<IPython.core.display.Image object>"
      ]
     },
     "metadata": {},
     "output_type": "display_data"
    }
   ],
   "source": [
    "from IPython.display import Image, display\n",
    "\n",
    "try:\n",
    "    display(Image(app.get_graph(xray=True).draw_mermaid_png()))\n",
    "except:\n",
    "    pass"
   ]
  },
  {
   "cell_type": "code",
   "execution_count": 47,
   "metadata": {},
   "outputs": [
    {
     "name": "stdout",
     "output_type": "stream",
     "text": [
      "ESTADO: {'messages': [SystemMessage(content='Eres responsable de responder las preguntas de los usuarios. Utilizas herramientas para ello; estas herramientas a veces fallan, pero eres muy resiliente y las intentas de nuevo', additional_kwargs={}, response_metadata={}), HumanMessage(content='¿Cómo está el clima en Ciudad de México hoy?', additional_kwargs={}, response_metadata={}), AIMessage(content='', additional_kwargs={'tool_calls': [{'id': 'call_vqV97ycCE5I3odeT8yVu2xgy', 'function': {'arguments': '{\"ciudad\":\"Ciudad de México\"}', 'name': 'weatherbit_api'}, 'type': 'function'}], 'refusal': None}, response_metadata={'token_usage': {'completion_tokens': 20, 'prompt_tokens': 110, 'total_tokens': 130, 'completion_tokens_details': {'accepted_prediction_tokens': 0, 'audio_tokens': 0, 'reasoning_tokens': 0, 'rejected_prediction_tokens': 0}, 'prompt_tokens_details': {'audio_tokens': 0, 'cached_tokens': 0}}, 'model_name': 'gpt-3.5-turbo-0125', 'system_fingerprint': None, 'finish_reason': 'tool_calls', 'logprobs': None}, id='run-cbde0590-b0b6-4603-a0b7-8ecf35606214-0', tool_calls=[{'name': 'weatherbit_api', 'args': {'ciudad': 'Ciudad de México'}, 'id': 'call_vqV97ycCE5I3odeT8yVu2xgy', 'type': 'tool_call'}], usage_metadata={'input_tokens': 110, 'output_tokens': 20, 'total_tokens': 130, 'input_token_details': {'audio': 0, 'cache_read': 0}, 'output_token_details': {'audio': 0, 'reasoning': 0}})], 'api_call_count': 0}\n",
      "Salida de la herramienta: Cielo despejado, 18.4°C\n",
      "Cantidad de llamadas a la API después de esta herramienta: 1\n",
      "ESTADO: {'messages': [SystemMessage(content='Eres responsable de responder las preguntas de los usuarios. Utilizas herramientas para ello; estas herramientas a veces fallan, pero eres muy resiliente y las intentas de nuevo', additional_kwargs={}, response_metadata={}), HumanMessage(content='¿Cómo está el clima en Ciudad de México hoy?', additional_kwargs={}, response_metadata={}), AIMessage(content='', additional_kwargs={'tool_calls': [{'id': 'call_vqV97ycCE5I3odeT8yVu2xgy', 'function': {'arguments': '{\"ciudad\":\"Ciudad de México\"}', 'name': 'weatherbit_api'}, 'type': 'function'}], 'refusal': None}, response_metadata={'token_usage': {'completion_tokens': 20, 'prompt_tokens': 110, 'total_tokens': 130, 'completion_tokens_details': {'accepted_prediction_tokens': 0, 'audio_tokens': 0, 'reasoning_tokens': 0, 'rejected_prediction_tokens': 0}, 'prompt_tokens_details': {'audio_tokens': 0, 'cached_tokens': 0}}, 'model_name': 'gpt-3.5-turbo-0125', 'system_fingerprint': None, 'finish_reason': 'tool_calls', 'logprobs': None}, id='run-cbde0590-b0b6-4603-a0b7-8ecf35606214-0', tool_calls=[{'name': 'weatherbit_api', 'args': {'ciudad': 'Ciudad de México'}, 'id': 'call_vqV97ycCE5I3odeT8yVu2xgy', 'type': 'tool_call'}], usage_metadata={'input_tokens': 110, 'output_tokens': 20, 'total_tokens': 130, 'input_token_details': {'audio': 0, 'cache_read': 0}, 'output_token_details': {'audio': 0, 'reasoning': 0}}), ToolMessage(content='Cielo despejado, 18.4°C', tool_call_id='call_vqV97ycCE5I3odeT8yVu2xgy'), AIMessage(content='El clima en Ciudad de México hoy es de cielo despejado con una temperatura de 18.4°C. ¿Hay algo más en lo que pueda ayudarte?', additional_kwargs={'refusal': None}, response_metadata={'token_usage': {'completion_tokens': 39, 'prompt_tokens': 151, 'total_tokens': 190, 'completion_tokens_details': {'accepted_prediction_tokens': 0, 'audio_tokens': 0, 'reasoning_tokens': 0, 'rejected_prediction_tokens': 0}, 'prompt_tokens_details': {'audio_tokens': 0, 'cached_tokens': 0}}, 'model_name': 'gpt-3.5-turbo-0125', 'system_fingerprint': None, 'finish_reason': 'stop', 'logprobs': None}, id='run-3c997e04-94dc-40d1-802e-13a22bfd9a45-0', usage_metadata={'input_tokens': 151, 'output_tokens': 39, 'total_tokens': 190, 'input_token_details': {'audio': 0, 'cache_read': 0}, 'output_token_details': {'audio': 0, 'reasoning': 0}})], 'api_call_count': 1}\n"
     ]
    }
   ],
   "source": [
    "# Importamos la clase SystemMessage de langchain_core.messages\n",
    "from langchain_core.messages import SystemMessage\n",
    "\n",
    "# Creamos un mensaje del sistema que define el comportamiento del agente\n",
    "# Este mensaje indica que el agente debe:\n",
    "# - Responder preguntas de usuarios\n",
    "# - Usar herramientas disponibles \n",
    "# - Ser resiliente ante fallos de las herramientas\n",
    "system_message = SystemMessage(\n",
    "    content=\"Eres responsable de responder las preguntas de los usuarios. Utilizas herramientas para ello; estas herramientas a veces fallan, pero eres muy resiliente y las intentas de nuevo\"\n",
    ")\n",
    "\n",
    "# Creamos un mensaje del usuario con una pregunta sobre el clima\n",
    "human_message = HumanMessage(content=\"¿Cómo está el clima en Ciudad de México hoy?\")\n",
    "\n",
    "# Combinamos ambos mensajes en una lista que será el historial de la conversación\n",
    "messages = [system_message, human_message]\n",
    "\n",
    "# Invocamos el grafo de ejecución (app) con:\n",
    "# - El historial de mensajes\n",
    "# - Un contador de llamadas a la API iniciado en 0\n",
    "result = app.invoke({\"messages\": messages, \"api_call_count\": 0})"
   ]
  },
  {
   "cell_type": "code",
   "execution_count": null,
   "metadata": {},
   "outputs": [],
   "source": []
  },
  {
   "cell_type": "code",
   "execution_count": 48,
   "metadata": {},
   "outputs": [
    {
     "name": "stdout",
     "output_type": "stream",
     "text": [
      "El clima en Ciudad de México hoy es de cielo despejado con una temperatura de 18.4°C. ¿Hay algo más en lo que pueda ayudarte?\n",
      "1\n"
     ]
    }
   ],
   "source": [
    "print(result[\"messages\"][-1].content)\n",
    "print(result[\"api_call_count\"])"
   ]
  }
 ],
 "metadata": {
  "kernelspec": {
   "display_name": "langgraph_tutorial",
   "language": "python",
   "name": "python3"
  },
  "language_info": {
   "codemirror_mode": {
    "name": "ipython",
    "version": 3
   },
   "file_extension": ".py",
   "mimetype": "text/x-python",
   "name": "python",
   "nbconvert_exporter": "python",
   "pygments_lexer": "ipython3",
   "version": "3.13.1"
  }
 },
 "nbformat": 4,
 "nbformat_minor": 2
}
